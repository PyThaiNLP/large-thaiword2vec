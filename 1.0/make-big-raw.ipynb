{
 "cells": [
  {
   "cell_type": "code",
   "execution_count": 4,
   "id": "bf613041",
   "metadata": {},
   "outputs": [],
   "source": [
    "from datasets import load_dataset"
   ]
  },
  {
   "cell_type": "code",
   "execution_count": 5,
   "id": "8a02dd08",
   "metadata": {},
   "outputs": [
    {
     "data": {
      "application/vnd.jupyter.widget-view+json": {
       "model_id": "3d70b0cc5b2a41e48e43259470de9a10",
       "version_major": 2,
       "version_minor": 0
      },
      "text/plain": [
       "Downloading builder script:   0%|          | 0.00/14.8k [00:00<?, ?B/s]"
      ]
     },
     "metadata": {},
     "output_type": "display_data"
    },
    {
     "data": {
      "application/vnd.jupyter.widget-view+json": {
       "model_id": "70633bf8bed44f46960bfd8449205210",
       "version_major": 2,
       "version_minor": 0
      },
      "text/plain": [
       "Downloading metadata:   0%|          | 0.00/3.07M [00:00<?, ?B/s]"
      ]
     },
     "metadata": {},
     "output_type": "display_data"
    },
    {
     "data": {
      "application/vnd.jupyter.widget-view+json": {
       "model_id": "0476d74375b94d68a858472e4a9625d5",
       "version_major": 2,
       "version_minor": 0
      },
      "text/plain": [
       "Downloading readme:   0%|          | 0.00/224k [00:00<?, ?B/s]"
      ]
     },
     "metadata": {},
     "output_type": "display_data"
    },
    {
     "name": "stderr",
     "output_type": "stream",
     "text": [
      "Using custom data configuration unshuffled_deduplicated_th-language=th\n"
     ]
    },
    {
     "name": "stdout",
     "output_type": "stream",
     "text": [
      "Downloading and preparing dataset oscar/unshuffled_deduplicated_th (download: 3.29 GiB, generated: 15.91 GiB, post-processed: Unknown size, total: 19.20 GiB) to /root/.cache/huggingface/datasets/oscar/unshuffled_deduplicated_th-language=th/0.0.0/84838bd49d2295f62008383b05620571535451d84545037bb94d6f3501651df2...\n"
     ]
    },
    {
     "data": {
      "application/vnd.jupyter.widget-view+json": {
       "model_id": "a270fc182c7c4455b7ee0fd573d1e0b7",
       "version_major": 2,
       "version_minor": 0
      },
      "text/plain": [
       "Downloading data:   0%|          | 0.00/738 [00:00<?, ?B/s]"
      ]
     },
     "metadata": {},
     "output_type": "display_data"
    },
    {
     "data": {
      "application/vnd.jupyter.widget-view+json": {
       "model_id": "087aa36d3707465ebed84e84b6839a10",
       "version_major": 2,
       "version_minor": 0
      },
      "text/plain": [
       "Downloading data files:   0%|          | 0/9 [00:00<?, ?it/s]"
      ]
     },
     "metadata": {},
     "output_type": "display_data"
    },
    {
     "data": {
      "application/vnd.jupyter.widget-view+json": {
       "model_id": "65b0f271d74f4b20b986c8aef10ae561",
       "version_major": 2,
       "version_minor": 0
      },
      "text/plain": [
       "Downloading data:   0%|          | 0.00/401M [00:00<?, ?B/s]"
      ]
     },
     "metadata": {},
     "output_type": "display_data"
    },
    {
     "data": {
      "application/vnd.jupyter.widget-view+json": {
       "model_id": "9eaf52bacb884e4399e5c3b30136c527",
       "version_major": 2,
       "version_minor": 0
      },
      "text/plain": [
       "Downloading data:   0%|          | 0.00/395M [00:00<?, ?B/s]"
      ]
     },
     "metadata": {},
     "output_type": "display_data"
    },
    {
     "data": {
      "application/vnd.jupyter.widget-view+json": {
       "model_id": "3fb8471b687a45bd8c3e5e73142dfcc4",
       "version_major": 2,
       "version_minor": 0
      },
      "text/plain": [
       "Downloading data:   0%|          | 0.00/404M [00:00<?, ?B/s]"
      ]
     },
     "metadata": {},
     "output_type": "display_data"
    },
    {
     "data": {
      "application/vnd.jupyter.widget-view+json": {
       "model_id": "e507c1169b554178ae1793bcfc00cc88",
       "version_major": 2,
       "version_minor": 0
      },
      "text/plain": [
       "Downloading data:   0%|          | 0.00/401M [00:00<?, ?B/s]"
      ]
     },
     "metadata": {},
     "output_type": "display_data"
    },
    {
     "data": {
      "application/vnd.jupyter.widget-view+json": {
       "model_id": "67753067d8d44e7d8f79fd8926a40206",
       "version_major": 2,
       "version_minor": 0
      },
      "text/plain": [
       "Downloading data:   0%|          | 0.00/400M [00:00<?, ?B/s]"
      ]
     },
     "metadata": {},
     "output_type": "display_data"
    },
    {
     "data": {
      "application/vnd.jupyter.widget-view+json": {
       "model_id": "6af7d963d46e4eb68e84b9de4c21e730",
       "version_major": 2,
       "version_minor": 0
      },
      "text/plain": [
       "Downloading data:   0%|          | 0.00/401M [00:00<?, ?B/s]"
      ]
     },
     "metadata": {},
     "output_type": "display_data"
    },
    {
     "data": {
      "application/vnd.jupyter.widget-view+json": {
       "model_id": "a425dd5d9fda4610ba951649e9a72f20",
       "version_major": 2,
       "version_minor": 0
      },
      "text/plain": [
       "Downloading data:   0%|          | 0.00/401M [00:00<?, ?B/s]"
      ]
     },
     "metadata": {},
     "output_type": "display_data"
    },
    {
     "data": {
      "application/vnd.jupyter.widget-view+json": {
       "model_id": "3916b7ed26534e3ab780b659718a9a27",
       "version_major": 2,
       "version_minor": 0
      },
      "text/plain": [
       "Downloading data:   0%|          | 0.00/402M [00:00<?, ?B/s]"
      ]
     },
     "metadata": {},
     "output_type": "display_data"
    },
    {
     "data": {
      "application/vnd.jupyter.widget-view+json": {
       "model_id": "eaac891a616c44b8823400c7856659b7",
       "version_major": 2,
       "version_minor": 0
      },
      "text/plain": [
       "Downloading data:   0%|          | 0.00/331M [00:00<?, ?B/s]"
      ]
     },
     "metadata": {},
     "output_type": "display_data"
    },
    {
     "data": {
      "application/vnd.jupyter.widget-view+json": {
       "model_id": "",
       "version_major": 2,
       "version_minor": 0
      },
      "text/plain": [
       "Generating train split:   0%|          | 0/3749826 [00:00<?, ? examples/s]"
      ]
     },
     "metadata": {},
     "output_type": "display_data"
    },
    {
     "name": "stdout",
     "output_type": "stream",
     "text": [
      "Dataset oscar downloaded and prepared to /root/.cache/huggingface/datasets/oscar/unshuffled_deduplicated_th-language=th/0.0.0/84838bd49d2295f62008383b05620571535451d84545037bb94d6f3501651df2. Subsequent calls will reuse this data.\n"
     ]
    },
    {
     "data": {
      "application/vnd.jupyter.widget-view+json": {
       "model_id": "4b51422ce7694fe8848c16a625059afa",
       "version_major": 2,
       "version_minor": 0
      },
      "text/plain": [
       "  0%|          | 0/1 [00:00<?, ?it/s]"
      ]
     },
     "metadata": {},
     "output_type": "display_data"
    }
   ],
   "source": [
    "dataset = load_dataset(\"oscar\",language=\"th\")"
   ]
  },
  {
   "cell_type": "code",
   "execution_count": 6,
   "id": "7e1654b2",
   "metadata": {},
   "outputs": [],
   "source": [
    "train=dataset['train']['text']"
   ]
  },
  {
   "cell_type": "code",
   "execution_count": 7,
   "id": "2bddadfa",
   "metadata": {},
   "outputs": [
    {
     "data": {
      "text/plain": [
       "3749826"
      ]
     },
     "execution_count": 7,
     "metadata": {},
     "output_type": "execute_result"
    }
   ],
   "source": [
    "len(train)"
   ]
  },
  {
   "cell_type": "code",
   "execution_count": 8,
   "id": "ee44c1fd",
   "metadata": {},
   "outputs": [
    {
     "data": {
      "text/plain": [
       "DatasetDict({\n",
       "    train: Dataset({\n",
       "        features: ['id', 'text'],\n",
       "        num_rows: 3749826\n",
       "    })\n",
       "})"
      ]
     },
     "execution_count": 8,
     "metadata": {},
     "output_type": "execute_result"
    }
   ],
   "source": [
    "dataset"
   ]
  },
  {
   "cell_type": "code",
   "execution_count": 9,
   "id": "534a4d34",
   "metadata": {},
   "outputs": [],
   "source": [
    "import multiprocessing"
   ]
  },
  {
   "cell_type": "code",
   "execution_count": 10,
   "id": "0bc1065c",
   "metadata": {},
   "outputs": [
    {
     "data": {
      "text/plain": [
       "16"
      ]
     },
     "execution_count": 10,
     "metadata": {},
     "output_type": "execute_result"
    }
   ],
   "source": [
    "multiprocessing.cpu_count()"
   ]
  },
  {
   "cell_type": "code",
   "execution_count": 16,
   "id": "05a78526",
   "metadata": {},
   "outputs": [
    {
     "data": {
      "text/plain": [
       "['Gameboy Micro หรือ GBM เป็นเครื่องเกมพกพาตัวล่าสุดจาก Nintendo นี่คือเหล้าเก่าในขวดใหม่ครับ ประสิทธิภาพการเล่นเกมคงเดิม แต่ปรับเปลี่ยนรูปโฉมใหม่ให้ In trend มากขึ้น พกพาสะดวกขึ้น',\n",
       " 'จากสเปคที่ดูมาข้างบนจะเห็นได้เลยว่ามันก็คือ Gameboy advance หรือ Gameboy advance sp ดี ๆ ซักเครื่องนั่นเอง แต่ก็มี Feature พิเศษน่ะสำหรับ GBM นั่นคือ หน้ากากสามารถถอดเปลี่ยนได้ และก็สามารถปรับความสว่างของจอภาพได้ด้วยประมาณว่าเร่งแสงให้สว่างให้มืดได้นั่นเอง',\n",
       " 'ถามว่านี่คือเฮือกสุดท้ายของ Gameboy Advance ใช่หรือไม ่ก็ตอบว่าใช่สำหรับ Generation ของ Gameboy advance นะครับ เพราะถ้าออกรุ่นต่อไปคงจะเป็นภาพ 3 มิติระดับเครื่อง Gamecube กันไปเลย',\n",
       " 'ซึ่ง Gameboy Micro นี้ออกมาเพื่อให้ทันกับกระแสอุปกรณ์พกพาเล็ก ๆ เช่นพวก I Pod พวก MP3 พกพาซึ่งตอนนี้กำลังเป็นที่นิยมกันมากที่ญี่ปุ่นและอเมริกา และวันข้างหน้าก็จะมีอุปกรณ์เสริมนั่นคือ Play Yan สำหรับ GBM ออกมาให้เราใช้กันแน่นอน คราวนี้เราสามารถพก GBM ไปใช้ได้ทั้ง ดูหนัง ฟังเพลง และเล่นเกมได้ครบสูตรเลยทีเดียว (ปัจจุบันอุปกรณ์เสริม Play Yan ยังไม่มีวางจำหน่ายสำหรับ GBM น่ะครับ)',\n",
       " 'สิ่งที่สังเกตุกันได้ชัดนั่นก็คือ GBM นั้น มีหน้าจอ LCD แบบ Nintendo DS นะครับ ไม่เหมือนสมัยเป็น GBA sp นะครับ ซึ่งหน้าจอระดับนี้ทำให้ได้ภาพที่คมชัดมาก ๆ แบบว่าใครที่เล่นบน Gameboy advance sp อยู่ละก็เอาเกมเดิมที่เล่นประจำไปเปิดเล่นบน GBM ก็จะได้ภาพที่สวยงามคมชัดแปลกตาขึ้นเลยครับ รับรองเลยว่าจอขนาด 2 นิ้วมันจะไม่ทำให้ท่านรู้สึกขัดตาแต่ประการใด',\n",
       " 'ตัวเครื่องดูลักษณะการดีไซน์ค่อนข้างที่จะเรียบง่ายครับ ผมคิดว่าวันข้างหน้าจะมีพวกอุปกรณ์เสริมเข้ามาแต่งมากมายแน่ ๆ เลยครับ (จากภาพจะสังเกตุได้ว่าตัวเครื่องเล็กจริง ๆ ครับ ไว้เห็นตัวจริงๆ กันแล้วจะหลงรัก GBM ครับ เชื่อผมได้เลย)',\n",
       " 'พอจับพลิกด้านหลังเครื่องก็จะเจอช่องไว้ใส่ตลับ GBA นะครับ ใส่ได้พอดีเป๊ะ ๆ เลย สังเกตุว่าจะมีรูของ Headphone ด้วยนะครับ หาหูฟังเจ๋ง ๆ มาเสียบฟังกันได้เลยครับ จากภาพตรงบริเวณนิ้วโป้งของมือในภาพน่ะครับนั่นคือ แบ็ตครับ',\n",
       " 'ข้างบนเครื่องก็มีปุ่ม L และ R เหมือน Gameboy Advance และ Gameboy Advance SP และก็มีช่อง link ด้วยครับ ละช่องนี้ก็เป็นช่องเอาไว้เสียบสาย adapter ด้วยครับเพื่อทำการชาร์จไฟเข้าแบ็ตเตอรี่',\n",
       " 'สุดยอดจริง ๆ ครับ ตอนแรกก็คิดว่า GBM นั้นจะไม่แตกต่างอะไรมาก ซึ่งจริง ๆ แล้วก็ไม่ได้แตกต่างมากในเรื่องเกมครับเพราะยังไงก็ใช้ตลับเกมของ Gameboy advance เหมือนเดิม (Gameboy Micro นั้นไม่สามารถเล่นเกมของ Gameboy และ Gameboy color ได้นะครับ)',\n",
       " 'แต่สิ่งที่ประทับใจสำหรับผมก็คือรูปร่างครับ ตอนแรกคิดว่ามันรู้สึกเฉย ๆ พอเจอตัวจริงแล้วก็ไม่รู้สึกเฉยเลยครับ ฉีดพล่านเลยครับ ความโลภกลั่นตัววิ่งในเส้นเลือดเลยครับ ทั้งสวยงาม ดูดี ดูน่ารัก ดู in trend แต่บางคนก็บอกเหมือนเกมกดน่ะฮ่าๆๆ']"
      ]
     },
     "execution_count": 16,
     "metadata": {},
     "output_type": "execute_result"
    }
   ],
   "source": [
    "train[6].splitlines()"
   ]
  },
  {
   "cell_type": "code",
   "execution_count": 17,
   "id": "1ee10aa7",
   "metadata": {},
   "outputs": [],
   "source": [
    "with open(\"big-raw.txt\",\"w\",encoding=\"utf-8\") as f:\n",
    "    for j in train:\n",
    "        for i in str(j).splitlines():\n",
    "            f.write(str(i)+\"\\n\")"
   ]
  },
  {
   "cell_type": "code",
   "execution_count": 18,
   "id": "f46effcb",
   "metadata": {},
   "outputs": [],
   "source": [
    "new_train = []\n",
    "for j in train:\n",
    "    for i in str(j).splitlines():\n",
    "        new_train.append(str(i))"
   ]
  },
  {
   "cell_type": "code",
   "execution_count": 19,
   "id": "c67d504d",
   "metadata": {},
   "outputs": [
    {
     "data": {
      "text/plain": [
       "22867209"
      ]
     },
     "execution_count": 19,
     "metadata": {},
     "output_type": "execute_result"
    }
   ],
   "source": [
    "len(new_train)"
   ]
  },
  {
   "cell_type": "code",
   "execution_count": 20,
   "id": "66dfe219",
   "metadata": {},
   "outputs": [
    {
     "data": {
      "text/plain": [
       "'ฟันที่แลดูขาวสะอาดไม่มีเศษอาหารติดอยู่ เหงือกสีชมพู ไม่เจ็บ หรือมีเลือดออกเวลาแปรงฟันหรือขัดฟัน ไม่มีปัญหาเรื่องกลิ่นปาก ทำให้กล้ายิ้มและพูดได้อย่างมั่นใจ'"
      ]
     },
     "execution_count": 20,
     "metadata": {},
     "output_type": "execute_result"
    }
   ],
   "source": [
    "new_train[0]"
   ]
  },
  {
   "cell_type": "code",
   "execution_count": 26,
   "id": "07d31c0a",
   "metadata": {},
   "outputs": [
    {
     "data": {
      "text/plain": [
       "'เพื่อค้นหา..นักฟุตบอลในดวงใจของชาวโลก.รวม.๑๓ ชีวิต..เมื่อพบแล้ว..ต่างชาติก็ยอมรับในทันทีว่า นี่คือ..สุดยอดน้ำใจนักกีฬาตัวจริง..อดทน อดกลั้น สมัครสมานสามัคคี ไม่ยอมแพ้ต่อปัญหาและอุปสรรค...สู้..อย่างมีความหวัง..'"
      ]
     },
     "execution_count": 26,
     "metadata": {},
     "output_type": "execute_result"
    }
   ],
   "source": [
    "new_train[-200]"
   ]
  },
  {
   "cell_type": "code",
   "execution_count": null,
   "id": "2cb61814",
   "metadata": {},
   "outputs": [],
   "source": [
    "#word_tokenize"
   ]
  },
  {
   "cell_type": "code",
   "execution_count": 29,
   "id": "41a8d4db",
   "metadata": {},
   "outputs": [],
   "source": [
    "import pickle"
   ]
  },
  {
   "cell_type": "code",
   "execution_count": 30,
   "id": "3485a4ea",
   "metadata": {},
   "outputs": [],
   "source": [
    "with open('big-raw.pickle', 'wb') as handle:\n",
    "    pickle.dump(new_train, handle, protocol=pickle.HIGHEST_PROTOCOL)"
   ]
  },
  {
   "cell_type": "code",
   "execution_count": null,
   "id": "adf85c08",
   "metadata": {},
   "outputs": [],
   "source": []
  }
 ],
 "metadata": {
  "kernelspec": {
   "display_name": "Python 3 (ipykernel)",
   "language": "python",
   "name": "python3"
  },
  "language_info": {
   "codemirror_mode": {
    "name": "ipython",
    "version": 3
   },
   "file_extension": ".py",
   "mimetype": "text/x-python",
   "name": "python",
   "nbconvert_exporter": "python",
   "pygments_lexer": "ipython3",
   "version": "3.8.10"
  }
 },
 "nbformat": 4,
 "nbformat_minor": 5
}
