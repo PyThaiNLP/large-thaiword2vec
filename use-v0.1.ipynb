{
 "cells": [
  {
   "cell_type": "code",
   "execution_count": 1,
   "metadata": {},
   "outputs": [],
   "source": [
    "from gensim.models import KeyedVectors"
   ]
  },
  {
   "cell_type": "code",
   "execution_count": 2,
   "metadata": {},
   "outputs": [],
   "source": [
    "from gensim.test.utils import datapath"
   ]
  },
  {
   "cell_type": "code",
   "execution_count": 3,
   "metadata": {},
   "outputs": [],
   "source": [
    "model = KeyedVectors.load_word2vec_format('LTW2V_v0.1.bin', binary=True, unicode_errors='ignore')"
   ]
  },
  {
   "cell_type": "code",
   "execution_count": 4,
   "metadata": {},
   "outputs": [
    {
     "name": "stderr",
     "output_type": "stream",
     "text": [
      "c:\\python\\python38\\lib\\site-packages\\numpy\\linalg\\linalg.py:2560: RuntimeWarning: overflow encountered in multiply\n",
      "  s = (x.conj() * x).real\n",
      "c:\\python\\python38\\lib\\site-packages\\numpy\\linalg\\linalg.py:2560: RuntimeWarning: invalid value encountered in multiply\n",
      "  s = (x.conj() * x).real\n"
     ]
    },
    {
     "name": "stdout",
     "output_type": "stream",
     "text": [
      "[('สุนัข', 0.8168727159500122), ('กระต่าย', 0.6046033501625061), ('หมา', 0.5884572267532349), ('เหมียว', 0.5816463232040405), ('วัว', 0.5073195099830627), ('นกแก้ว', 0.5062177181243896), ('ลาบราดอร์', 0.48412400484085083), ('อัลเซเชียน', 0.47935914993286133), ('catnip', 0.47100353240966797), ('สัตว์เลี้ยง', 0.4655151665210724)]\n"
     ]
    },
    {
     "name": "stderr",
     "output_type": "stream",
     "text": [
      "c:\\python\\python38\\lib\\site-packages\\gensim\\models\\keyedvectors.py:772: RuntimeWarning: invalid value encountered in true_divide\n",
      "  dists = dot(self.vectors[clip_start:clip_end], mean) / self.norms[clip_start:clip_end]\n"
     ]
    }
   ],
   "source": [
    "print(model.most_similar(\"แมว\"))"
   ]
  },
  {
   "cell_type": "code",
   "execution_count": 18,
   "metadata": {},
   "outputs": [
    {
     "name": "stdout",
     "output_type": "stream",
     "text": [
      "[('พรรคภูมิใจไทย', 0.7908875346183777), ('พรรครวมพลังประชาชาติไทย', 0.7717543840408325), ('พรรคพลังประชารัฐ', 0.7658897042274475), ('พรรคประชาชาติ', 0.7575054168701172), ('พรรคประชาธิปัตย์', 0.7418505549430847), ('พรรคประชาชนปฏิรูป', 0.7315803170204163), ('พรรคเพื่อไทย', 0.7298178672790527), ('พรรคพลังธรรมใหม่', 0.7260007262229919), ('พรรคสามัญชน', 0.7141458988189697), ('พรรคการเมือง', 0.6478033661842346)]\n"
     ]
    }
   ],
   "source": [
    "print(model.most_similar('พรรคอนาคตใหม่'))"
   ]
  },
  {
   "cell_type": "code",
   "execution_count": null,
   "metadata": {},
   "outputs": [],
   "source": []
  }
 ],
 "metadata": {
  "kernelspec": {
   "display_name": "Python 3",
   "language": "python",
   "name": "python3"
  },
  "language_info": {
   "codemirror_mode": {
    "name": "ipython",
    "version": 3
   },
   "file_extension": ".py",
   "mimetype": "text/x-python",
   "name": "python",
   "nbconvert_exporter": "python",
   "pygments_lexer": "ipython3",
   "version": "3.8.5"
  }
 },
 "nbformat": 4,
 "nbformat_minor": 4
}
